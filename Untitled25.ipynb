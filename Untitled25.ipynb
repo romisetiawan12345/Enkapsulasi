{
  "nbformat": 4,
  "nbformat_minor": 0,
  "metadata": {
    "colab": {
      "provenance": [],
      "authorship_tag": "ABX9TyP5+h/Bpmesaoo13a12kRgn",
      "include_colab_link": true
    },
    "kernelspec": {
      "name": "python3",
      "display_name": "Python 3"
    },
    "language_info": {
      "name": "python"
    }
  },
  "cells": [
    {
      "cell_type": "markdown",
      "metadata": {
        "id": "view-in-github",
        "colab_type": "text"
      },
      "source": [
        "<a href=\"https://colab.research.google.com/github/romisetiawan12345/Enkapsulasi/blob/main/Untitled25.ipynb\" target=\"_parent\"><img src=\"https://colab.research.google.com/assets/colab-badge.svg\" alt=\"Open In Colab\"/></a>"
      ]
    },
    {
      "cell_type": "code",
      "execution_count": 1,
      "metadata": {
        "id": "jNV08RuFbm77"
      },
      "outputs": [],
      "source": [
        "class RekeningBank:\n",
        "  def __init__(self, namapemilik, saldo):\n",
        "    self.__namapemilik = namapemilik\n",
        "    self.__saldo = saldo\n",
        "\n",
        "  def get_namapemilik(self):\n",
        "    return self.__namapemilik\n",
        "\n",
        "  def set_namapemilik(self, namapemilik):\n",
        "    self.__namapemilik = namapemilik\n",
        "\n",
        "  def get_saldo(self):\n",
        "    return self.__saldo\n",
        "\n",
        "  def set_saldo(self):\n",
        "    self.__saldo = saldo\n",
        "\n",
        "  def setor(self, jml_setor):\n",
        "    self.__saldo = self.__saldo + jml_setor\n",
        "    return self.__saldo\n",
        "\n",
        "  def tarik(self, jml_tarik):\n",
        "    if jml_tarik <= self.__saldo:\n",
        "      return self.__saldo - jml_tarik\n",
        "    else:\n",
        "      print(\"saldo anda kurang\")"
      ]
    },
    {
      "cell_type": "code",
      "source": [
        "#Program utama untuk mendemonstrasikan class RekeningBank\n",
        "#yang menunjukkan penggunaan semua fungsi yang ada\n",
        "user1 = RekeningBank('ROMI', 7000000)\n",
        "#menampilkan nama dan saldo yang telah diubah\n",
        "print(\"selamat datang\", user1.get_namapemilik())\n",
        "print(\"saldo anda:\", \"Rp,-\", user1.get_saldo())\n",
        "print(\"saldo anda:\", user1.setor(10000))\n",
        "print(\"Anda berhasil menarik sejumlah Rp,-\", user1.tarik(40000))\n",
        "user1.tarik(100000000000000000)"
      ],
      "metadata": {
        "colab": {
          "base_uri": "https://localhost:8080/"
        },
        "id": "jr7gpyFDbvVZ",
        "outputId": "d066c466-247d-4d30-ad6c-901585dd24d8"
      },
      "execution_count": 3,
      "outputs": [
        {
          "output_type": "stream",
          "name": "stdout",
          "text": [
            "selamat datang ROMI\n",
            "saldo anda: Rp,- 7000000\n",
            "saldo anda: 7010000\n",
            "Anda berhasil menarik sejumlah Rp,- 6970000\n",
            "saldo anda kurang\n"
          ]
        }
      ]
    }
  ]
}